{
 "cells": [
  {
   "cell_type": "code",
   "execution_count": null,
   "id": "9dc4380d",
   "metadata": {},
   "outputs": [],
   "source": [
    "##import libraries\n",
    "import numpy as np\n",
    "import os\n",
    "import pandas as pd\n",
    "import scipy as sp\n",
    "#pip install eeglabio ##if you can not run eeglab or have not use it before, delete the hashtag\n",
    "import eeglabio\n",
    "import mne\n",
    "#pip install emd ##if you can not run the code below as it can not find the functions/you have not run this library before, please delete the hashtag\n",
    "from emd.sift import mask_sift\n",
    "from emd.spectra import define_hist_bins, frequency_transform\n",
    "import matplotlib.pyplot as plt\n",
    "from scipy.fft import fft, ifft\n",
    "from scipy.signal import welch\n",
    "from scipy.io import savemat\n",
    "import json\n",
    "from sklearn.decomposition import FastICA\n",
    "import joblib\n",
    "from mne.preprocessing import ICA\n",
    "import mne, time\n",
    "from datetime import datetime\n",
    "from mne.io import read_raw_edf\n",
    "from Basic_function import group_consecutives, get_start_timestamp, chunks, ica_pipe, remove_imfs, mask_sift_emd,plot_beforeafter,plot_psd,plot_fft_beforeafter\n",
    "from EEG import EEG"
   ]
  },
  {
   "cell_type": "code",
   "execution_count": null,
   "id": "f25cd370",
   "metadata": {},
   "outputs": [],
   "source": [
    "##redirect to the folder contain the edf files\n",
    "path = r'D:\\data video\\CutControl'"
   ]
  },
  {
   "cell_type": "code",
   "execution_count": null,
   "id": "6b5dad67",
   "metadata": {},
   "outputs": [],
   "source": [
    "##IMPORT DATA ##please label data in a system for easy input\n",
    "subject_id= 'C01'\n",
    "path_edf = os.path.join(path, f'{subject_id}.edf') ##call out the file according to its name - subject id\n",
    "eeg = read_raw_edf(path_edf,preload=True,exclude=('Status')) ##this is compulsory to read the edf files ##exclude 'status' as it is stimulus channel created due to import of event.csv in eeglab(MATLAB)\n",
    "raw_data=eeg.get_data() "
   ]
  },
  {
   "cell_type": "code",
   "execution_count": null,
   "id": "25f6bf4b",
   "metadata": {},
   "outputs": [],
   "source": [
    "## CHECKPOINT-you can get the metadata included in the file and a list of all channels\n",
    "#info = eeg.info\n",
    "#channels = eeg.ch_names\n",
    "#print(channels)\n",
    "#print(np.shape(raw_data))"
   ]
  },
  {
   "cell_type": "code",
   "execution_count": null,
   "id": "51e57aaa",
   "metadata": {},
   "outputs": [],
   "source": [
    "##Masked EMD for all channels, max imfs = 12 means that each channel signal was decomposed to 12 IMF \n",
    "imfs_all = mask_sift_emd(data = raw_data,\n",
    "                duration = None,\n",
    "                channel = None,\n",
    "                sample_rate = 200,\n",
    "                mask_freqs = 50,\n",
    "                ret_mask_freq = True,\n",
    "                max_imfs = 12)\n",
    "##RECONSTRUCT THE DATA AFTER ELIMINATE THE IMFS COMPONENT\n",
    "eeg_after_emd = eeg.copy()\n",
    "eeg_after_emd.apply_function(remove_imfs, imfs = imfs_all, idx = [0, 9, 10, 11], channel_wise=False)\n",
    "data_after_emd = eeg_after_emd.get_data().T"
   ]
  },
  {
   "cell_type": "code",
   "execution_count": null,
   "id": "289656bf",
   "metadata": {},
   "outputs": [],
   "source": [
    "## CHECKPOINT-use the following code to check the arrangement of your datasets. To plot beforeandafter, they need to be in same shape\n",
    "#np.shape(raw_data)\n",
    "#np.shape(data_after_emd)"
   ]
  },
  {
   "cell_type": "code",
   "execution_count": null,
   "id": "71f0e60a",
   "metadata": {},
   "outputs": [],
   "source": [
    "## CHECKPOINT-plot it out to check effect of EMD on your data. Keep the duration short as too long can cause the code lagging.\n",
    "plot_beforeafter(data1=raw_data[:,0:30*200].T,\n",
    "                   data2=data_after_emd[0:30*200,:],\n",
    "                   eeg=eeg,\n",
    "                   title='Before&after',\n",
    "                     figsize=(64,48),\n",
    "                     fs=200,\n",
    "                  y_unit='uV',\n",
    "                  savefig = os.path.join(path,f'{subject_id}.jpg')) ##here we only plot out 30-secs of data"
   ]
  },
  {
   "cell_type": "code",
   "execution_count": null,
   "id": "9cd689e1",
   "metadata": {},
   "outputs": [],
   "source": [
    "##EXPORT the post-EMD as .mat file ##file will be automatically saved in the home folder of your JUPYTER Notebook. Get out and dowload it\n",
    "from scipy import io\n",
    "io.savemat('export.mat', {\"data\": data_after_emd})"
   ]
  }
 ],
 "metadata": {
  "kernelspec": {
   "display_name": "Python 3 (ipykernel)",
   "language": "python",
   "name": "python3"
  },
  "language_info": {
   "codemirror_mode": {
    "name": "ipython",
    "version": 3
   },
   "file_extension": ".py",
   "mimetype": "text/x-python",
   "name": "python",
   "nbconvert_exporter": "python",
   "pygments_lexer": "ipython3",
   "version": "3.9.12"
  }
 },
 "nbformat": 4,
 "nbformat_minor": 5
}
